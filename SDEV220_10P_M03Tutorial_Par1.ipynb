{
 "cells": [
  {
   "cell_type": "code",
   "execution_count": 1,
   "id": "a3d240c6-de8c-4e02-a17a-5cab7a15808a",
   "metadata": {},
   "outputs": [
    {
     "name": "stdin",
     "output_type": "stream",
     "text": [
      "Input a number between 3 and 10:  5\n"
     ]
    },
    {
     "name": "stdout",
     "output_type": "stream",
     "text": [
      "Unsorted array: [1, 2, 0, 2, 2, 1]\n",
      "The sorted array: [0, 1, 1, 2, 2, 2]\n"
     ]
    }
   ],
   "source": [
    "#Tracie Lindquist\n",
    "#SDEV 220 10P M03 Tutorial_Part 1\n",
    "# Part 1:  Sort an Array\n",
    "#Given an array of size N containing only 0s, 1s and 2s, sort the array in ascending order\n",
    "\n",
    "#create a radom array of numbers 0,1, and 2 with a length between 3 and 10 numbers\n",
    "import random\n",
    "def create_array (unsorted_array, array_size):\n",
    "    while len(unsorted_array) <= array_size:\n",
    "        element = random.randint(0,2)\n",
    "        unsorted_array.append(element)\n",
    "    print(f'Unsorted array: {unsorted_array}')\n",
    "    return unsorted_array\n",
    "\n",
    "# Function to check the value of each element in the array and sort them \n",
    "def sort_array(sorted_array, arr_size):\n",
    "    low = 0\n",
    "    high = arr_size \n",
    "    mid = 0\n",
    "    # While loop to iterate through and sort the array \n",
    "    while mid <= high:\n",
    "        # If the value of the element at [mid] is 0\n",
    "        if unsorted_array[mid] == 0:\n",
    "            #change positions of the low and mid element in the list (move the current mid element and the low element in a tuple)\n",
    "            unsorted_array[low], unsorted_array[mid] = unsorted_array[mid], unsorted_array[low]\n",
    "            #increase the value of the position number for both the mid and low numbers to move to the second item in the array\n",
    "            low = low + 1\n",
    "            mid = mid + 1\n",
    "        # If the value of the element at [mid] is 1\n",
    "        elif unsorted_array[mid] == 1:\n",
    "            #move the element one position to the right\n",
    "            mid = mid + 1\n",
    "        # If the element is 2\n",
    "        else:\n",
    "        #use a tuple to move the element one position to the right and then decrement the position value of the variable high\n",
    "            unsorted_array[mid], unsorted_array[high] = unsorted_array[high], unsorted_array[mid]\n",
    "            high = high - 1\n",
    "    #return the sorted array\n",
    "    print(f'The sorted array: {sorted_array}')\n",
    "\n",
    "\n",
    "\n",
    "#Functional code to input starting array and call functions to sort the original array and print the sorted array\n",
    "unsorted_array = []\n",
    "array_size_prompt = \"Input a number between 3 and 10: \"\n",
    "array_size = int(input(array_size_prompt))\n",
    "create_array(unsorted_array, array_size)\n",
    "sorted_array = sort_array(unsorted_array, array_size)\n"
   ]
  },
  {
   "cell_type": "code",
   "execution_count": null,
   "id": "7820a8fc-6d1f-4507-a496-b4133a2ad070",
   "metadata": {},
   "outputs": [],
   "source": []
  }
 ],
 "metadata": {
  "kernelspec": {
   "display_name": "Python 3 (ipykernel)",
   "language": "python",
   "name": "python3"
  },
  "language_info": {
   "codemirror_mode": {
    "name": "ipython",
    "version": 3
   },
   "file_extension": ".py",
   "mimetype": "text/x-python",
   "name": "python",
   "nbconvert_exporter": "python",
   "pygments_lexer": "ipython3",
   "version": "3.11.7"
  }
 },
 "nbformat": 4,
 "nbformat_minor": 5
}
