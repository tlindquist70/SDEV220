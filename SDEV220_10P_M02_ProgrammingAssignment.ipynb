{
 "cells": [
  {
   "cell_type": "code",
   "execution_count": 2,
   "id": "fd3b9b06-1a4b-434e-bb0b-3a9a20f5f55c",
   "metadata": {},
   "outputs": [
    {
     "name": "stdout",
     "output_type": "stream",
     "text": [
      "too high\n"
     ]
    }
   ],
   "source": [
    "#M02 Assignment 4.1\n",
    "# assign a number between 1 and 10 to a variable called secret\n",
    "# assign a number between 1 and 10 to a variable called guess\n",
    "# compare secret and guess; if guess is greater than secret print \"too high\" if less than secret print \"too low\" otherwise print \"just right\"\n",
    "\n",
    "secret = 5\n",
    "guess = 7\n",
    "if guess < secret:\n",
    "    print(\"too low\")\n",
    "elif guess > secret:\n",
    "    print(\"too high\")\n",
    "else: \n",
    "    print(\"just right\")"
   ]
  },
  {
   "cell_type": "code",
   "execution_count": 4,
   "id": "a21cf036-00ea-4f84-879d-97af6d312e5a",
   "metadata": {},
   "outputs": [
    {
     "name": "stdout",
     "output_type": "stream",
     "text": [
      "It's a cherry!\n"
     ]
    }
   ],
   "source": [
    "#M02 Assignment 4.2\n",
    "# assign a boolean to a variable called smalle and to another variable called green\n",
    "# create an if-else statement that prints the item in this list : pea, watermelon, cherry, pumpkin, that matches\n",
    "# the assigned booleans\n",
    "\n",
    "small = True\n",
    "green = False\n",
    "\n",
    "if green:\n",
    "    if small:\n",
    "        print (\"It's a pea!\")\n",
    "    else:\n",
    "        print (\"It's a watermelon!\")\n",
    "else:\n",
    "    if small:\n",
    "        print (\"It's a cherry!\")\n",
    "    else:\n",
    "        print (\"It's a pumpkin!\")"
   ]
  },
  {
   "cell_type": "code",
   "execution_count": 5,
   "id": "fa62ee6a-3f4c-45ce-8cd9-0e9a0f21620b",
   "metadata": {},
   "outputs": [
    {
     "name": "stdout",
     "output_type": "stream",
     "text": [
      "3\n",
      "2\n",
      "1\n",
      "0\n"
     ]
    }
   ],
   "source": [
    "#M02 Assignment 6.1\n",
    "# create as list that contains the numbers 3, 2, 1, and 0\n",
    "# write a for loop that parses that list and prints each number\n",
    "\n",
    "list = [3,2,1,0]\n",
    "for num in list: \n",
    "    print(num)"
   ]
  },
  {
   "cell_type": "code",
   "execution_count": 6,
   "id": "749f3322-ffd0-4ead-bb9a-1c7e5ae9b2e0",
   "metadata": {},
   "outputs": [
    {
     "name": "stdout",
     "output_type": "stream",
     "text": [
      "too low\n",
      "too low\n",
      "too low\n",
      "too low\n",
      "too low\n",
      "too low\n",
      "found it!\n"
     ]
    }
   ],
   "source": [
    "# M02 Assignment 6.2\n",
    "# assign the value 7 to a variable called guess_me and 1 to a variable called number\n",
    "# use a while loop that compares the variable number to the variable guess me\n",
    "# print \"too low\" if the number is less than guess_me\n",
    "# print \"found it\" if the number is the same as guess_me \n",
    "# if the number is greater than guess_me print \"oops\" and exit the loop\n",
    "# increment number at the end of the loop \n",
    "\n",
    "guess_me = 7\n",
    "number = 1\n",
    " \n",
    "while True:\n",
    "    if number < guess_me:\n",
    "        print(\"too low\")   \n",
    "    elif number == guess_me: \n",
    "        print (\"found it!\")\n",
    "        break\n",
    "    elif number > guess_me:\n",
    "        print (\"oops\")\n",
    "        break\n",
    "    number += 1"
   ]
  },
  {
   "cell_type": "code",
   "execution_count": 7,
   "id": "c48d47b3-9614-4f39-9f1b-81bc0fb33a88",
   "metadata": {},
   "outputs": [
    {
     "name": "stdout",
     "output_type": "stream",
     "text": [
      "too low\n",
      "too low\n",
      "too low\n",
      "too low\n",
      "too low\n",
      "found it!\n"
     ]
    }
   ],
   "source": [
    "# M02 Assignment 6.2\n",
    "# assign the value 5 to a variable called guess_me\n",
    "# use a for loop to iterate over a value range of 1 to 10\n",
    "# print \"too low\" if the number is less than guess_me\n",
    "# print \"found it\" if the number is the same as guess_me \n",
    "# if the number is greater than guess_me print \"oops\" and exit the loop\n",
    "# increment number at the end of the loop  \n",
    "\n",
    "guess_me = 5\n",
    "number = 1\n",
    "\n",
    "for number in range (10): \n",
    "    if number < guess_me:\n",
    "        print(\"too low\")   \n",
    "    elif number == guess_me: \n",
    "        print (\"found it!\")\n",
    "        break\n",
    "    elif number > guess_me:\n",
    "        print (\"oops\")\n",
    "        break\n",
    "    number += 1   "
   ]
  },
  {
   "cell_type": "code",
   "execution_count": null,
   "id": "cd792833-9f2a-41b1-982a-5ce6f1dbd1ff",
   "metadata": {},
   "outputs": [],
   "source": []
  }
 ],
 "metadata": {
  "kernelspec": {
   "display_name": "Python 3 (ipykernel)",
   "language": "python",
   "name": "python3"
  },
  "language_info": {
   "codemirror_mode": {
    "name": "ipython",
    "version": 3
   },
   "file_extension": ".py",
   "mimetype": "text/x-python",
   "name": "python",
   "nbconvert_exporter": "python",
   "pygments_lexer": "ipython3",
   "version": "3.11.7"
  }
 },
 "nbformat": 4,
 "nbformat_minor": 5
}
