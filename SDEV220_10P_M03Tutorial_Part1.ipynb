{
 "cells": [
  {
   "cell_type": "code",
   "execution_count": 3,
   "id": "98bbeef8-ed92-4b1e-8a4b-2f11c7c45028",
   "metadata": {},
   "outputs": [
    {
     "name": "stdin",
     "output_type": "stream",
     "text": [
      "Input a number between 3 and 10:  6\n"
     ]
    },
    {
     "name": "stdout",
     "output_type": "stream",
     "text": [
      "Unsorted array: [1, 2, 0, 0, 2, 1, 0]\n",
      "Sorted array: [0, 0, 0, 1, 1, 2, 2]\n"
     ]
    }
   ],
   "source": [
    "#Tracie Lindquist\n",
    "#SDEV220_10P_M03_Tutorial_Part 1\n",
    "#Given an array of size N containing only 0s, 1s and 2s, sort the array in ascending order\n",
    "\n",
    "#create a radom array of numbers 0,1, and 2 with a length between 3 and 10 numbers\n",
    "import random\n",
    "def create_array (unsorted_array, array_size):\n",
    "    while len(unsorted_array) <= array_size:\n",
    "        element = random.randint(0,2)\n",
    "        unsorted_array.append(element)\n",
    "    print(f'Unsorted array: {unsorted_array}')\n",
    "    return unsorted_array\n",
    "\n",
    "#sort array in ascending order\n",
    "def sort_array(unsorted_array):\n",
    "    sorted_array = sorted(unsorted_array)\n",
    "    print(f'Sorted array: {sorted_array}')\n",
    "\n",
    "unsorted_array = []\n",
    "array_size_prompt = \"Input a number between 3 and 10: \"\n",
    "array_size = int(input(array_size_prompt))\n",
    "create_array(unsorted_array,array_size)\n",
    "sort_array(unsorted_array)"
   ]
  }
 ],
 "metadata": {
  "kernelspec": {
   "display_name": "Python 3 (ipykernel)",
   "language": "python",
   "name": "python3"
  },
  "language_info": {
   "codemirror_mode": {
    "name": "ipython",
    "version": 3
   },
   "file_extension": ".py",
   "mimetype": "text/x-python",
   "name": "python",
   "nbconvert_exporter": "python",
   "pygments_lexer": "ipython3",
   "version": "3.11.7"
  }
 },
 "nbformat": 4,
 "nbformat_minor": 5
}
