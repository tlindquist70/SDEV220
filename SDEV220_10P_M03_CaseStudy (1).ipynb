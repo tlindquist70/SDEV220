{
 "cells": [
  {
   "cell_type": "code",
   "execution_count": 2,
   "id": "e13617c4-51f7-47e1-8950-e89c0b3369bc",
   "metadata": {},
   "outputs": [
    {
     "name": "stdin",
     "output_type": "stream",
     "text": [
      "Enter the vehicle type:  car\n",
      "What year was the vehicle manufactured?  1986\n",
      "What is the make of the vehicle?  nissan\n",
      "What model is the vehicle?:  200sx\n",
      "How many doors does it have?  3\n",
      "Does it have a sunroof?  Enter Y or N. y\n"
     ]
    },
    {
     "name": "stdout",
     "output_type": "stream",
     "text": [
      "My new vehicle is a car.\n",
      "It is a 1986 Nissan 200Sx.\n",
      "It has 3 doors and a sunroof.\n"
     ]
    },
    {
     "name": "stdin",
     "output_type": "stream",
     "text": [
      "Would you like to enter a new vehicle? Enter Y or N. y\n",
      "Enter the vehicle type:  broom\n",
      "What year was the vehicle manufactured?  1665\n",
      "What is the make of the vehicle?  cleansweep\n",
      "What model is the vehicle?:  7\n",
      "How many doors does it have?  0\n",
      "Does it have a sunroof?  Enter Y or N. y\n"
     ]
    },
    {
     "name": "stdout",
     "output_type": "stream",
     "text": [
      "My new vehicle is a broom.\n",
      "It is a 1665 Cleansweep 7.\n",
      "It has 0 doors and a sunroof.\n"
     ]
    },
    {
     "name": "stdin",
     "output_type": "stream",
     "text": [
      "Would you like to enter a new vehicle? Enter Y or N. y\n",
      "Enter the vehicle type:  sport utility vehicle\n",
      "What year was the vehicle manufactured?  2016\n",
      "What is the make of the vehicle?  cadillac\n",
      "What model is the vehicle?:  escalade\n",
      "How many doors does it have?  5\n",
      "Does it have a sunroof?  Enter Y or N. n\n"
     ]
    },
    {
     "name": "stdout",
     "output_type": "stream",
     "text": [
      "My new vehicle is a sport utility vehicle.\n",
      "It is a 2016 Cadillac Escalade.\n",
      "It has 5 doors and a hard top.\n"
     ]
    },
    {
     "name": "stdin",
     "output_type": "stream",
     "text": [
      "Would you like to enter a new vehicle? Enter Y or N. n\n"
     ]
    },
    {
     "name": "stdout",
     "output_type": "stream",
     "text": [
      "Done\n"
     ]
    }
   ],
   "source": [
    "#Tracie Lindquist\n",
    "#SDEV220_10P_M03_Case Study\n",
    "#Create a superclass called vehicle that stores vehicle type\n",
    "#Create a subclass called autombile that stores vehicle details\n",
    "#Ask users to input a vehicle type\n",
    "#Ask users to input vehicle details\n",
    "#Print the vehicle type and its details in an easy to read format\n",
    " \n",
    "#create the vehicle superclass\n",
    "class Vehicle:\n",
    "    \"\"\"A class to build a vehicle\"\"\"\n",
    "\n",
    "    def __init__(self, vehicle):\n",
    "        \"\"\"Initialize attirbutes of a vehicle superclass\"\"\"\n",
    "        self.vehicle = vehicle\n",
    "      \n",
    "\n",
    "    def new_vehicle(self):\n",
    "        \"\"\"Request user input and return values for the vehicle attribute\"\"\"\n",
    "        global vehicle\n",
    "        vehicle_prompt = \"Enter the vehicle type: \"\n",
    "        vehicle = input(vehicle_prompt).lstrip().rstrip()\n",
    "        return vehicle\n",
    "\n",
    "#create \n",
    "class Automobile(Vehicle):\n",
    "    \"\"\"A class to add vehicle details\"\"\"\n",
    "\n",
    "    def __init__ (self, automobile):\n",
    "        \"\"\"Initialize attributes of an the automobile subclss\"\"\"\n",
    "        self.automobile = automobile\n",
    "        self.year = year\n",
    "        self.make = make\n",
    "        self.model = model\n",
    "        self.doors = doors\n",
    "        self.roof = roof\n",
    "\n",
    "    def new_automobile(self):\n",
    "        \"\"\"Request user input and return values for the automobile attributes\"\"\"\n",
    "        global year\n",
    "        global make\n",
    "        global model\n",
    "        global doors\n",
    "        global roof\n",
    "            \n",
    "        year_prompt = \"What year was the vehicle manufactured? \"\n",
    "        year = int(input(year_prompt))\n",
    "        make_prompt = \"What is the make of the vehicle? \"\n",
    "        make = input(make_prompt).title().lstrip().rstrip()\n",
    "        model_prompt = \"What model is the vehicle?: \"\n",
    "        model = input(model_prompt).title().lstrip().rstrip()\n",
    "        doors_prompt = \"How many doors does it have? \"\n",
    "        doors = int(input(doors_prompt))\n",
    "        roof_prompt = \"Does it have a sunroof?  Enter Y or N.\"\n",
    "        roof = input(roof_prompt).capitalize().lstrip().rstrip()\n",
    "        if roof == \"Y\":\n",
    "            roof = \"sunroof\"\n",
    "        else:\n",
    "            roof = \"hard top\"\n",
    "        print(f'My new vehicle is a {vehicle}.')\n",
    "        print(f'It is a {year} {make} {model}.\\nIt has {doors} doors and a {roof}.')\n",
    "\n",
    "#recursion so users can enter more than one vehicle\n",
    "def go_again():\n",
    "    prompt = \"Would you like to enter a new vehicle? Enter Y or N.\"\n",
    "    another_entry = input(prompt).capitalize()\n",
    "    if another_entry == \"Y\":\n",
    "        Vehicle.new_vehicle(Vehicle)\n",
    "        Automobile.new_automobile(Automobile)\n",
    "        go_again()\n",
    "    else:\n",
    "        print(\"Done\")\n",
    "\n",
    "     \n",
    "\n",
    "#code that calls the classes and runs the class functions\n",
    "my_vehicle = Vehicle.new_vehicle(Vehicle)\n",
    "my_automobile = Automobile.new_automobile(Automobile)\n",
    "go_again()"
   ]
  },
  {
   "cell_type": "code",
   "execution_count": null,
   "id": "8e3b0d89-1386-47ee-b3c2-7f2fb739b06a",
   "metadata": {},
   "outputs": [],
   "source": []
  }
 ],
 "metadata": {
  "kernelspec": {
   "display_name": "Python 3 (ipykernel)",
   "language": "python",
   "name": "python3"
  },
  "language_info": {
   "codemirror_mode": {
    "name": "ipython",
    "version": 3
   },
   "file_extension": ".py",
   "mimetype": "text/x-python",
   "name": "python",
   "nbconvert_exporter": "python",
   "pygments_lexer": "ipython3",
   "version": "3.11.7"
  }
 },
 "nbformat": 4,
 "nbformat_minor": 5
}
