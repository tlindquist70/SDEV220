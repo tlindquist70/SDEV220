{
 "cells": [
  {
   "cell_type": "code",
   "execution_count": null,
   "id": "41406500-8ba7-4b6e-aa79-437ad49f3c0f",
   "metadata": {},
   "outputs": [],
   "source": [
    "#SDEV220_10P_M07_Case Study\n",
    "#Tracie Lindquist\n",
    "\n",
    "#AS NOTED IN MY EMAIL, I AM UNABLE TO GET THE COMMAND pip install pandas TO WORK.  \n",
    "#I HAVE TRIED RUNNING pip install numpy FIRST. \n",
    "#I HAVE TRIED TO UNISTALL PANDAS AND THEN REINSTALL IT. I HAVE TRIED USING AN EARLIER VERSION OF PANDS. \n",
    "#NO MATTER WHAT I DO, PANDAS WILL NOT INSTALL.  \n",
    "#RESEARCH THROUGH STACK OVERFLOW SHOWS THIS IS A KNOWN AND ONGOING ISSUE.\n",
    "\n",
    "#I HAVE FOLLOWED THE VIDEO TUTORIAL AND WRITTEN ALL OF THE CODE BUT I AM UNABLE TO RUN THE \n",
    "#NOTEBOOK TO VERIFY THAT THIS IS ACTUALLY WORKING. \n",
    "#TLL 7/11/2024"
   ]
  },
  {
   "cell_type": "code",
   "execution_count": null,
   "id": "6cba7d44-a2fb-43c5-95cc-4d0f77e55b46",
   "metadata": {},
   "outputs": [],
   "source": [
    "import pandas as pd"
   ]
  },
  {
   "cell_type": "code",
   "execution_count": null,
   "id": "8034d1a5-5e6c-40b8-a93b-75d0098adec2",
   "metadata": {},
   "outputs": [],
   "source": [
    "pd."
   ]
  },
  {
   "cell_type": "code",
   "execution_count": null,
   "id": "ffdb42ac-3107-4259-b185-3e21f655a545",
   "metadata": {},
   "outputs": [],
   "source": [
    "#Create \n",
    "df  = pd.read_csv('telco_churn.csv')\n",
    "\n",
    "#Create from a Dictionary\n",
    "tempdict = {'col1':{1,2,3}, 'col2': {4,5,6}, 'col3': {7,8,9}}\n",
    "dictdf = pd.DataFrame.from_dict(tempdict)"
   ]
  },
  {
   "cell_type": "code",
   "execution_count": null,
   "id": "22fc0f22-ed70-439b-ad53-b9e2a3b5eeef",
   "metadata": {},
   "outputs": [],
   "source": [
    "#Read\n",
    "#Show top 5 rows of the CSV\n",
    "df.head()\n",
    "\n",
    "#show top 5 rows of dictionary\n",
    "dictdf.head()\n",
    "\n",
    "#Show bottom 5 rows\n",
    "df.tail()\n",
    "\n",
    "#show columns \n",
    "df.columns\n",
    "\n",
    "#show columns and datatypes\n",
    "df.datatypes\n",
    "\n",
    "#summary statistics on itegers and floats\n",
    "df.describe()\n",
    "\n",
    "#summary statistics on objects\n",
    "df.describe(include = \"objects\")\n",
    "\n",
    "#filtering on single columns\n",
    "df.state #use the value as a key\n",
    "df.['International plan']  #filter on single column when column name has a space\n",
    "\n",
    "#filtering on multiple columns\n",
    "df[['state', 'International plan']]\n",
    "\n",
    "#find unique values\n",
    "df.State.unique()\n",
    "\n",
    "#filtering on rows \n",
    "df[df.['International plan'] == 'No']\n",
    "\n",
    "#filtering on mulitple columns within rows\n",
    "df[(df.['International plan'] == 'No') & (df.['Churn'] == False)]\n",
    "\n",
    "#indexing with iloc\n",
    "#finding data using location by integer\n",
    "df.iloc(14) #pulls in data from row 15\n",
    "\n",
    "#expand to drill down\n",
    "df.iloc[14,0]  #[row, column]\n",
    "\n",
    "#slicing for a subset of our dataframe\n",
    "df.iloc[22:33]  #pulls a subset of rows of data\n",
    "\n",
    "\n",
    "#indexing with loc\n",
    "#uses keywords instead of integers\n",
    "state = df.copy()  #creates copy of dataframe\n",
    "state.set_index('State', inplace = True)  #sets the dataframe index to the state column\n",
    "state.head() #returns the top rows\n",
    "\n",
    "#find specific rows\n",
    "state.loc['OH']\n"
   ]
  },
  {
   "cell_type": "code",
   "execution_count": null,
   "id": "d4931120-1097-4e16-98b5-2de240793371",
   "metadata": {},
   "outputs": [],
   "source": [
    "#Update\n",
    "\n",
    "#dropping rows\n",
    "#first step is usually dropping rows that have nulls\n",
    "#to calculate the number of rows that have missing values, string together the isnull and sum methods\n",
    "df.isnull().sum\n",
    "\n",
    "#in pandas null is represented as 'na' so to drop nulls, remove 'na's\n",
    "#drop all rows with missing values\n",
    "df.dropna(inplace=True)\n",
    "\n",
    "#droppping columns\n",
    "df.drop('Area Code', axis = 1)\n",
    "\n",
    "#creating calcualted columns\n",
    "df['New Column'] = df['Total night minutes'] + df['total intl minutes']\n",
    "df.head()\n",
    "\n",
    "#update an entire column\n",
    "df['New Column'] = 100\n",
    "df.head()\n",
    "\n",
    "#update a single value\n",
    "df.iloc[0,-1) = 10\n",
    "df.head()\n",
    "\n",
    "#condiation based updating using Apply\n",
    "df['Churn Binary'] = df['Churn'].apply(lambda x: 1 if x == True, else 0)\n",
    "df.head()"
   ]
  },
  {
   "cell_type": "code",
   "execution_count": null,
   "id": "69545c1f-32dd-44e9-b5e0-49e2e93a6689",
   "metadata": {},
   "outputs": [],
   "source": [
    "#Delete/Output\n",
    "\n",
    "#output to csv\n",
    "df.to_csv('output.csv')\n",
    "\n",
    "#output to .json\n",
    "df.to_json()\n",
    "\n",
    "#output to HTML\n",
    "df.to_html()\n",
    "\n",
    "#delete a dataframe\n",
    "del df\n"
   ]
  }
 ],
 "metadata": {
  "kernelspec": {
   "display_name": "Python 3 (ipykernel)",
   "language": "python",
   "name": "python3"
  },
  "language_info": {
   "codemirror_mode": {
    "name": "ipython",
    "version": 3
   },
   "file_extension": ".py",
   "mimetype": "text/x-python",
   "name": "python",
   "nbconvert_exporter": "python",
   "pygments_lexer": "ipython3",
   "version": "3.11.7"
  }
 },
 "nbformat": 4,
 "nbformat_minor": 5
}
