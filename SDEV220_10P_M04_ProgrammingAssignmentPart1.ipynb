{
 "cells": [
  {
   "cell_type": "code",
   "execution_count": null,
   "id": "44d21f9c-2029-4f40-a8ac-f229dbd1af1b",
   "metadata": {},
   "outputs": [],
   "source": [
    "#SDEV220_10P_M04_Programming Assignment\n",
    "#Tracie Lindquist\n",
    "#11.1 Part 1\n",
    "#Create a file called zoo.py\n",
    "#Define a functin called hours and have it print a statement\n",
    "\n",
    "\n",
    "\n",
    "def hours():\n",
    "    print('Open 9 to 5 daily.')"
   ]
  },
  {
   "cell_type": "code",
   "execution_count": null,
   "id": "f49576b8-8044-4565-b2ef-145427e2e214",
   "metadata": {},
   "outputs": [],
   "source": [
    "#SDEV220_10P_M04_Programming Assignment\n",
    "#Tracie Lindquist\n",
    "#11.1 Part 2\n",
    "#import the file named zoo.py\n",
    "#call the hours function inside the zoo.py file\n",
    "\n",
    "\n",
    "\n",
    "import zoo \n",
    "zoo.hours()"
   ]
  },
  {
   "cell_type": "code",
   "execution_count": null,
   "id": "1a233845-8a3e-43f0-9c54-d8e5e955e19d",
   "metadata": {},
   "outputs": [],
   "source": [
    "#SDEV220_10P_M04_Programming Assignment\n",
    "#Tracie Lindquist\n",
    "#11.2\n",
    "# import the zoo.py file as 'mangerie'\n",
    "# call the hours funcion\n",
    "\n",
    "import zoo as menagerie\n",
    "\n",
    "menagerie.hours()"
   ]
  },
  {
   "cell_type": "code",
   "execution_count": null,
   "id": "86373ba2-bbea-46b9-bf3b-8339a82708a4",
   "metadata": {},
   "outputs": [],
   "source": [
    "#SDEV220_10P_M04_ProgrammingAssignment\n",
    "#Tracie Lindquist\n",
    "#16.8\n",
    "#Use sqlalchemy to connect to sqlite3 books.db\n",
    "#select and print the title column from the book table in alphabetical order\n",
    "\n",
    "#import required classes and methods\n",
    "import sqlalchemy\n",
    "from sqlalchemy import create_engine, MetaData, Table, Column, Numeric, Integer, VARCHAR, text\n",
    "from sqlalchemy.engine import result\n",
    "\n",
    "#test connection to flask\n",
    "print(\"attempting to connect\")\n",
    "\n",
    "#connect to database\n",
    "conn = create_engine('sqlite:///instance/data.db') \n",
    "#sql script query the book database and to return book titles in alphabetical order\n",
    "sql = 'select book_name from book order by book_name asc'\n",
    "with conn.engine.connect() as connection:\n",
    "    rows = connection.execute(text(sql))  \n",
    "    connection.commit()\n",
    "\n",
    "\n",
    "#print query results    \n",
    "    for row in rows: \n",
    "        print(row)"
   ]
  }
 ],
 "metadata": {
  "kernelspec": {
   "display_name": "Python 3 (ipykernel)",
   "language": "python",
   "name": "python3"
  },
  "language_info": {
   "codemirror_mode": {
    "name": "ipython",
    "version": 3
   },
   "file_extension": ".py",
   "mimetype": "text/x-python",
   "name": "python",
   "nbconvert_exporter": "python",
   "pygments_lexer": "ipython3",
   "version": "3.11.7"
  }
 },
 "nbformat": 4,
 "nbformat_minor": 5
}
