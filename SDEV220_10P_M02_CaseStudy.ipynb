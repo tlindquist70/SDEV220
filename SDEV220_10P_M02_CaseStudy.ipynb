{
 "cells": [
  {
   "cell_type": "code",
   "execution_count": 3,
   "id": "3d4f7fcf-c29d-47b9-87b9-4cddab7eb108",
   "metadata": {},
   "outputs": [
    {
     "name": "stdin",
     "output_type": "stream",
     "text": [
      "Enter the student's last name or enter ZZZ to quit:  roth\n",
      "Enter the student's first name:  tim\n",
      "Enter the student's GPA as X.XX:  3.75\n"
     ]
    },
    {
     "name": "stdout",
     "output_type": "stream",
     "text": [
      "TIM ROTH has qualified for the Dean's list\n"
     ]
    },
    {
     "name": "stdin",
     "output_type": "stream",
     "text": [
      "Enter the student's last name or enter ZZZ to quit:  munster\n",
      "Enter the student's first name:  eddie\n",
      "Enter the student's GPA as X.XX:  3.25\n"
     ]
    },
    {
     "name": "stdout",
     "output_type": "stream",
     "text": [
      "EDDIE MUNSTER has qualified for the Honor Roll\n"
     ]
    },
    {
     "name": "stdin",
     "output_type": "stream",
     "text": [
      "Enter the student's last name or enter ZZZ to quit:  henson\n",
      "Enter the student's first name:  jim\n",
      "Enter the student's GPA as X.XX:  3.32\n"
     ]
    },
    {
     "name": "stdout",
     "output_type": "stream",
     "text": [
      "JIM HENSON has qualified for the Honor Roll\n"
     ]
    },
    {
     "name": "stdin",
     "output_type": "stream",
     "text": [
      "Enter the student's last name or enter ZZZ to quit:  frate\n",
      "Enter the student's first name:  dean\n",
      "Enter the student's GPA as X.XX:  3.9\n"
     ]
    },
    {
     "name": "stdout",
     "output_type": "stream",
     "text": [
      "DEAN FRATE has qualified for the Dean's list\n"
     ]
    },
    {
     "name": "stdin",
     "output_type": "stream",
     "text": [
      "Enter the student's last name or enter ZZZ to quit:  moouth\n",
      "Enter the student's first name:  ralph\n",
      "Enter the student's GPA as X.XX:  1.75\n"
     ]
    }
   ],
   "source": [
    "# Tracie Lindquist\n",
    "# SDEV220_10P_M02_Case Study\n",
    "# Prompt users to enter a student's Last Name name or enter ZZZ to quit\n",
    "# Prompt users to enter a student's first name\n",
    "# Prompt users to enter a GPA as a float\n",
    "# Use a loop to check student GPAs agaist the following criteria:\n",
    "# If the student's GPA is greater than 3.5 print a message that the student has qualified for the Dean's list \n",
    "# If no, check to see if the student's GPA is greater than 3.25\n",
    "# If yes, print a message that the student has qualified for the Honor Roll\n",
    "# If no, break the loop\n",
    "# Test with at least 5 students \n",
    "\n",
    "prompt1 = \"Enter the student's last name or enter ZZZ to quit: \"\n",
    "prompt2 = \"Enter the student's first name: \"\n",
    "prompt3 = \"Enter the student's GPA as X.XX: \"\n",
    "\n",
    "last_name = str(input(prompt1)).lstrip().rstrip().upper() \n",
    "\n",
    "while last_name != \"ZZZ\":\n",
    "    first_name = str(input(prompt2)).lstrip().rstrip().upper()\n",
    "    GPA = float(input(prompt3))\n",
    "    if GPA >= 3.50:\n",
    "        print (f'{first_name } {last_name} has qualified for the Dean\\'s list')\n",
    "        #break\n",
    "    elif 3.25 <= GPA <= 3.49:\n",
    "        print (f'{first_name } {last_name} has qualified for the Honor Roll')\n",
    "        #break\n",
    "    else:\n",
    "        break\n",
    "    last_name = str(input(prompt1)).lstrip().rstrip().upper()         "
   ]
  },
  {
   "cell_type": "code",
   "execution_count": null,
   "id": "5b51ba4d-28e5-4b20-9bee-78a94eca683b",
   "metadata": {},
   "outputs": [],
   "source": [
    "# ZZZ exit test\n",
    "\n",
    "prompt1 = \"Enter the student's last name or enter ZZZ to quit: \"\n",
    "prompt2 = \"Enter the student's first name: \"\n",
    "prompt3 = \"Enter the student's GPA as X.XX: \"\n",
    "\n",
    "last_name = str(input(prompt1)).lstrip().rstrip().upper() \n",
    "\n",
    "while last_name != \"ZZZ\":\n",
    "    first_name = str(input(prompt2)).lstrip().rstrip().upper()\n",
    "    GPA = float(input(prompt3))\n",
    "    if GPA >= 3.50:\n",
    "        print (f'{first_name } {last_name} has qualified for the Dean\\'s list')\n",
    "        #break\n",
    "    elif 3.25 <= GPA <= 3.49:\n",
    "        print (f'{first_name } {last_name} has qualified for the Honor Roll')\n",
    "        #break\n",
    "    else:\n",
    "        break\n",
    "    last_name = str(input(prompt1)).lstrip().rstrip().upper()"
   ]
  }
 ],
 "metadata": {
  "kernelspec": {
   "display_name": "Python 3 (ipykernel)",
   "language": "python",
   "name": "python3"
  },
  "language_info": {
   "codemirror_mode": {
    "name": "ipython",
    "version": 3
   },
   "file_extension": ".py",
   "mimetype": "text/x-python",
   "name": "python",
   "nbconvert_exporter": "python",
   "pygments_lexer": "ipython3",
   "version": "3.11.7"
  }
 },
 "nbformat": 4,
 "nbformat_minor": 5
}
