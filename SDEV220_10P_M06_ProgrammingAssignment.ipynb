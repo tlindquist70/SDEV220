{
 "cells": [
  {
   "cell_type": "code",
   "execution_count": null,
   "id": "182a5a56-300a-4d73-af0c-20b095a26849",
   "metadata": {},
   "outputs": [],
   "source": [
    "# # #SDEV220_10P_M06_Programming Assignment\n",
    "# # #Tracie Lindquist\n",
    "\n",
    "# # #13.1 Write the current date a string to the file today.txt\n",
    "\n",
    "from datetime import date, datetime\n",
    "now = date.today()\n",
    "now_str = now.isoformat()\n",
    "with open('today.txt', 'w') as output: \n",
    "    output.write(now_str)\n",
    "    output.close()\n",
    "\n",
    "#13.2 Read the text file today.txt into the string today_string\n",
    "\n",
    "with open('today.txt', 'r') as input: \n",
    "    today_string = input.read()\n",
    "    \n",
    "\n",
    "#13.3 Parse the date from today_string\n",
    "\n",
    "fmt = '%Y-%m-%d'\n",
    "print(datetime.strptime(today_string, fmt))"
   ]
  },
  {
   "cell_type": "code",
   "execution_count": 2,
   "id": "aac2dcb2-a984-412b-ae3c-a9c147069260",
   "metadata": {},
   "outputs": [],
   "source": [
    "#15.1 Use multiprocessing to crete three separate processes. \n",
    "#Make each one wait a random number of seconds between zero and one\n",
    "#Print the current time and then exit.\n",
    "\n",
    "import multiprocessing\n",
    "from datetime import timezone, datetime\n",
    "\n",
    "def now(seconds):\n",
    "    from datetime import datetime\n",
    "    from time import sleep\n",
    "    sleep(seconds)\n",
    "    print('wait', seconds, 'seconds, time is', datetime.now(timezone.utc))\n",
    "\n",
    "if __name__ == '__main__':\n",
    "    import random\n",
    "    for n in range(3):\n",
    "        seconds = random.random()\n",
    "        proc = multiprocessing.Process(target= now, args = (seconds,))\n",
    "        proc.start()"
   ]
  }
 ],
 "metadata": {
  "kernelspec": {
   "display_name": "Python 3 (ipykernel)",
   "language": "python",
   "name": "python3"
  },
  "language_info": {
   "codemirror_mode": {
    "name": "ipython",
    "version": 3
   },
   "file_extension": ".py",
   "mimetype": "text/x-python",
   "name": "python",
   "nbconvert_exporter": "python",
   "pygments_lexer": "ipython3",
   "version": "3.11.7"
  }
 },
 "nbformat": 4,
 "nbformat_minor": 5
}
